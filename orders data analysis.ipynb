{
 "cells": [
  {
   "cell_type": "code",
   "execution_count": null,
   "id": "7ea6ec04-0554-4f58-864b-ec3eeb5adbc9",
   "metadata": {},
   "outputs": [],
   "source": [
    "!pip install kaggle\n",
    "import kaggle"
   ]
  },
  {
   "cell_type": "code",
   "execution_count": null,
   "id": "eee85eef-d5d9-48c6-9c0d-ea4edacecc21",
   "metadata": {},
   "outputs": [],
   "source": [
    "#download dataset using kaggle api\n",
    "!kaggle datasets download ankitbansal06/retail-orders -f orders.csv"
   ]
  },
  {
   "cell_type": "code",
   "execution_count": null,
   "id": "f825a8c1-de2c-47ef-9c09-f9f29f094152",
   "metadata": {},
   "outputs": [],
   "source": [
    "!pip install chardet\n",
    "\n",
    "import chardet\n",
    "\n",
    "# Read a small chunk of the file in binary mode\n",
    "with open(\"orders.csv\", \"rb\") as f:\n",
    "    result = chardet.detect(f.read(100000))  # Reads first 100KB\n",
    "    print(result)"
   ]
  },
  {
   "cell_type": "code",
   "execution_count": null,
   "id": "11ccfeea-3120-4375-afde-9c19811dba1d",
   "metadata": {},
   "outputs": [],
   "source": [
    "#read data from the file and handle null values\n",
    "import pandas as pd\n",
    "df = pd.read_csv(\"orders.csv\", na_values = ['Not Available','unknown'])\n",
    "df.head()"
   ]
  },
  {
   "cell_type": "code",
   "execution_count": null,
   "id": "bdfe3797-dbf3-44e4-bee2-7ac4cd7d5d9d",
   "metadata": {},
   "outputs": [],
   "source": [
    "df['Ship Mode'].unique()"
   ]
  },
  {
   "cell_type": "code",
   "execution_count": 21,
   "id": "dd165ea0-db9b-4b3e-8c30-272235434857",
   "metadata": {},
   "outputs": [],
   "source": [
    "#rename column names, make them lower case and replace space with underscore\n",
    "df.columns\n",
    "df.columns = df.columns.str.lower()\n",
    "df.columns = df.columns.str.replace(' ', '_')"
   ]
  },
  {
   "cell_type": "code",
   "execution_count": null,
   "id": "d97a1da3-81a7-42a2-9402-0a60263b6a25",
   "metadata": {},
   "outputs": [],
   "source": [
    "df.columns\n",
    "df.head()"
   ]
  },
  {
   "cell_type": "code",
   "execution_count": null,
   "id": "391dc517-8811-42b4-92e4-66687ab1c293",
   "metadata": {},
   "outputs": [],
   "source": [
    "#derive new columns discount, sale price and profit\n",
    "df['discount'] = df['list_price']* df['discount_percent']* .01\n",
    "df['sale_price'] = df['list_price'] - df['discount']\n",
    "df['profit'] = df['sale_price'] - df['cost_price']\n",
    "df"
   ]
  },
  {
   "cell_type": "code",
   "execution_count": null,
   "id": "ec3f38cc-b8f0-410d-8c6a-4ede373bb4cc",
   "metadata": {},
   "outputs": [],
   "source": [
    "#convert order date from object to datetime\n",
    "df['order_date'] = pd.to_datetime(df['order_date'],format='%Y-%m-%d')\n",
    "df.dtypes"
   ]
  },
  {
   "cell_type": "code",
   "execution_count": 35,
   "id": "787d02d4-133c-4026-b9b2-5a697dcdb3b2",
   "metadata": {},
   "outputs": [],
   "source": [
    "#drop cost_price, list_price and discount_percent columns\n",
    "df.drop(columns = ['list_price', 'cost_price', 'discount_percent'],inplace = True)"
   ]
  },
  {
   "cell_type": "code",
   "execution_count": null,
   "id": "156874e3-3184-4b71-b65b-8013bab6ab2a",
   "metadata": {},
   "outputs": [],
   "source": [
    "df"
   ]
  },
  {
   "cell_type": "code",
   "execution_count": null,
   "id": "d4f497da-5014-447c-acd3-9c2e17509d97",
   "metadata": {},
   "outputs": [],
   "source": [
    "!pip install python-dotenv sqlalchemy psycopg2\n"
   ]
  },
  {
   "cell_type": "code",
   "execution_count": null,
   "id": "ae4c7b1c-d7a5-434f-b054-fdec86409356",
   "metadata": {},
   "outputs": [],
   "source": [
    "from sqlalchemy import create_engine\n",
    "# from sqlalchemy.pool import NullPool\n",
    "from dotenv import load_dotenv\n",
    "import os\n",
    "\n",
    "# Load environment variables from .env\n",
    "load_dotenv()\n",
    "\n",
    "# Fetch variables\n",
    "USER = os.getenv(\"user\")\n",
    "PASSWORD = os.getenv(\"password\")\n",
    "HOST = os.getenv(\"host\")\n",
    "PORT = os.getenv(\"port\")\n",
    "DBNAME = os.getenv(\"dbname\")\n",
    "\n",
    "missing = [var for var in [USER, PASSWORD, HOST, PORT, DBNAME] if var is None]\n",
    "if missing:\n",
    "    raise ValueError(f\"Missing environment variables: {missing}\")\n",
    "\n",
    "\n",
    "# Construct the SQLAlchemy connection string\n",
    "# DATABASE_URL = f\"postgresql+psycopg2://{USER}:{PASSWORD}@{HOST}:{PORT}/{DBNAME}?sslmode=require\"\n",
    "\n",
    "# Create the SQLAlchemy engine\n",
    "engine = create_engine(f'postgresql+psycopg2://{USER}:{PASSWORD}@{HOST}:{PORT}/{DBNAME}', future=True )\n",
    "\n",
    "#If using Transaction Pooler or Session Pooler, we want to ensure we disable SQLAlchemy client side pooling -\n",
    "# https://docs.sqlalchemy.org/en/20/core/pooling.html#switching-pool-implementations\n",
    "# engine = create_engine(DATABASE_URL, poolclass=NullPool)\n",
    "\n",
    "# Test the connection\n",
    "try:\n",
    "    with engine.connect() as connection:\n",
    "        print(\"Connection successful!\")\n",
    "except Exception as e:\n",
    "    print(f\"Failed to connect: {e}\")\n"
   ]
  },
  {
   "cell_type": "code",
   "execution_count": null,
   "id": "b63e3f40-b382-49f7-a920-a83ad857dd07",
   "metadata": {},
   "outputs": [],
   "source": [
    "df.to_sql('orders', con=engine, if_exists='replace', index=False)"
   ]
  },
  {
   "cell_type": "code",
   "execution_count": null,
   "id": "6c4051d3-983c-4829-b0f9-60a7a32675ab",
   "metadata": {},
   "outputs": [],
   "source": []
  }
 ],
 "metadata": {
  "kernelspec": {
   "display_name": "Python 3 (ipykernel)",
   "language": "python",
   "name": "python3"
  },
  "language_info": {
   "codemirror_mode": {
    "name": "ipython",
    "version": 3
   },
   "file_extension": ".py",
   "mimetype": "text/x-python",
   "name": "python",
   "nbconvert_exporter": "python",
   "pygments_lexer": "ipython3",
   "version": "3.10.4"
  }
 },
 "nbformat": 4,
 "nbformat_minor": 5
}
